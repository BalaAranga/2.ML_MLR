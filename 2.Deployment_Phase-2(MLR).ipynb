{
 "cells": [
  {
   "cell_type": "code",
   "execution_count": 11,
   "metadata": {},
   "outputs": [],
   "source": [
    "import pickle"
   ]
  },
  {
   "cell_type": "code",
   "execution_count": 12,
   "metadata": {},
   "outputs": [
    {
     "name": "stdout",
     "output_type": "stream",
     "text": [
      "Enter Spen for RD : 23548\n",
      "Enter Spen for Administration : 25687\n",
      "Enter Spen for Marketing Spend : 45687\n",
      "Enter State : California\n",
      "Predictable Profit is  [[63219.21857219]]\n"
     ]
    }
   ],
   "source": [
    "Spend_RD = int(input(\"Enter Spen for RD : \"))\n",
    "Administration = int(input(\"Enter Spen for Administration : \"))\n",
    "Marketing  = int(input(\"Enter Spen for Marketing Spend : \"))\n",
    "State = input(\"Enter State : \")\n",
    "if(State==\"Florida\"):\n",
    "    State=1\n",
    "    State2=0\n",
    "elif(State==\"New York\"):\n",
    "    State=0\n",
    "    State2=1\n",
    "else:\n",
    "    State=0\n",
    "    State2=0\n",
    "    \n",
    "loaded_model = pickle.load(open(\"finalized_model_Multiple_linear.sav\",\"rb\"))\n",
    "result = loaded_model.predict([[Spend_RD,Administration,Marketing,State,State2]])\n",
    "print(\"Predictable Profit is \",result)"
   ]
  },
  {
   "cell_type": "code",
   "execution_count": null,
   "metadata": {},
   "outputs": [],
   "source": []
  }
 ],
 "metadata": {
  "kernelspec": {
   "display_name": "Python 3",
   "language": "python",
   "name": "python3"
  },
  "language_info": {
   "codemirror_mode": {
    "name": "ipython",
    "version": 3
   },
   "file_extension": ".py",
   "mimetype": "text/x-python",
   "name": "python",
   "nbconvert_exporter": "python",
   "pygments_lexer": "ipython3",
   "version": "3.7.4"
  }
 },
 "nbformat": 4,
 "nbformat_minor": 2
}
